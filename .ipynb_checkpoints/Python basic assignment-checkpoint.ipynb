{
 "cells": [
  {
   "cell_type": "markdown",
   "id": "f41ca66b-96a1-4925-afe5-ebcff5e852bd",
   "metadata": {},
   "source": [
    "1. #Explain the key features of Python that make it a popular choice for programming.\n",
    "\n",
    "One of the most significant features of Python is that it is very easy to learn. The language has a simple syntax and structure that makes it easy for beginners to learn and start coding quickly. Python code is also easy to read and understand, which makes it an excellent choice for collaborative projects.\n",
    "\n",
    "It is a high-level language that requires minimal coding efforts. It has a rich set of libraries and modules that simplify the coding process, making it possible to build complex applications quickly.\n",
    "\n",
    "One of the important features of Python is that it is an interpreted language, which means that the code is executed line by line. This makes the debugging process easier, as errors can be caught and fixed in real time.\n",
    "\n",
    "Python is a free and open-source language, which means that anyone can use it, modify it, and distribute it without any restrictions. This makes it an ideal choice for developers and programmers who want to build software applications without incurring high costs.\n",
    "\n",
    "Python is a cross-platform language, which means that it can run on different operating systems such as Windows, Linux, and macOS. This makes it easy to develop software applications that can run on multiple platforms.\n",
    "\n",
    "Python has a rich set of features that make it a powerful language for developing complex applications. It supports multi-threading, networking, and database connectivity, making it an ideal choice for building enterprise-level applications.\n",
    "\n",
    "Python is a high-level language, which means that it is closer to human language than machine language. This makes it easy to write code that is easy to understand and maintain.\n",
    "\n",
    "Python has built-in support for databases such as MySQL, PostgreSQL, and SQLite. This makes it easy to build applications that require data storage and retrieval.\n",
    "\n",
    "Python has a large 137000 standard libraries that includes modules for different tasks such as web development, networking, data processing, and more. This makes it easy to develop applications without having to write custom code.\n",
    "\n",
    "Python is a dynamically typed language, which means that the data type of a variable is determined at runtime. This makes it easy to write code that is flexible and adaptable to changing requirements.\n"
   ]
  },
  {
   "cell_type": "code",
   "execution_count": 4,
   "id": "a7ee98c0-305f-4b7e-bb84-3778a3f59c3e",
   "metadata": {},
   "outputs": [
    {
     "name": "stdout",
     "output_type": "stream",
     "text": [
      "\n",
      "Here is a list of the Python keywords.  Enter any keyword to get more help.\n",
      "\n",
      "False               class               from                or\n",
      "None                continue            global              pass\n",
      "True                def                 if                  raise\n",
      "and                 del                 import              return\n",
      "as                  elif                in                  try\n",
      "assert              else                is                  while\n",
      "async               except              lambda              with\n",
      "await               finally             nonlocal            yield\n",
      "break               for                 not                 \n",
      "\n",
      "True\n"
     ]
    }
   ],
   "source": [
    "2.#Describe the role of predefined keywords in Python and provide examples of how they are used in a program.\n",
    "\n",
    "#The Python keywords act as the building blocks of a python program. These words have a specific meaning and can’t be used for other purposes. The keywords will always be available to a programmer for coding.\n",
    "#We need not import them. To get a list of the Python reserved words, we need to follow the below process\n",
    "\n",
    "\n",
    "help(\"keywords\")\n",
    "\n",
    "x = 25\n",
    "y = 20\n",
    "\n",
    "z = x > y\n",
    "print(z)\n",
    "\n"
   ]
  },
  {
   "cell_type": "code",
   "execution_count": 6,
   "id": "07209350-2000-4a60-8f7b-56880aaf9358",
   "metadata": {},
   "outputs": [
    {
     "name": "stdout",
     "output_type": "stream",
     "text": [
      "You are a minor\n"
     ]
    }
   ],
   "source": [
    "#Another example of keyword using if and else\n",
    "\n",
    "age = 17\n",
    "if age >= 18:\n",
    "    print(\"you are eligible to get a driving licence\")\n",
    "else:\n",
    "    print(\"You are a minor\")\n",
    "\n"
   ]
  },
  {
   "cell_type": "markdown",
   "id": "61808aa4-1140-4465-9a8b-d5164fbb78a9",
   "metadata": {},
   "source": [
    "3. #Compare and contrast mutable and immutable objects in Python with examples.\n",
    "\n",
    "In Python programming language, whenever the internal state of the is chargeable, that object is known as a mutable object. So whenever the object is gone through an internal state change, it is called mutable, and if not then it is called an immutable object. The main difference between mutable and immutable objects in Python is based on their acceptance of internal change.\n",
    "\n",
    "Mutable- \n",
    "The objects can be modified after the creation as well.\n",
    "Classes that are mutable are not considered final.\n",
    "Thread unsafe.\n",
    "Classes are not made final for the mutable objects.\n",
    "Example: Lists, Dicts, Sets, User-Defined Classes, Dictionaries, etc.\n",
    "\n",
    "Immutable-\n",
    "Objects can not be modified after the creation of the objects.\n",
    "Classes that are immutable are considered final.\n",
    "Thread-safe.\n",
    "Classes are made final for the immutable objects.\n",
    "Example: int, float, bool, string, Unicode, tuple, Numbers, etc.\n",
    "\n",
    "\n"
   ]
  },
  {
   "cell_type": "code",
   "execution_count": 9,
   "id": "633fb6fc-758f-479d-848a-7d1c19599d8a",
   "metadata": {},
   "outputs": [
    {
     "name": "stdout",
     "output_type": "stream",
     "text": [
      "[1, 2, 3, 4]\n",
      "[1, 5, 2, 3, 4]\n",
      "[1, 5, 3, 4]\n"
     ]
    }
   ],
   "source": [
    "#Example of mutability in list\n",
    "\n",
    "my_list = [1, 2, 3]\n",
    "my_list.append(4)\n",
    "print(my_list) \n",
    "\n",
    "my_list.insert(1, 5)\n",
    "print(my_list) \n",
    "\n",
    "my_list.remove(2)\n",
    "print(my_list) \n",
    "\n"
   ]
  },
  {
   "cell_type": "code",
   "execution_count": 10,
   "id": "ef29ef7c-1738-4887-9b9b-5d75e5953a6d",
   "metadata": {},
   "outputs": [
    {
     "ename": "TypeError",
     "evalue": "'str' object does not support item assignment",
     "output_type": "error",
     "traceback": [
      "\u001b[0;31m---------------------------------------------------------------------------\u001b[0m",
      "\u001b[0;31mTypeError\u001b[0m                                 Traceback (most recent call last)",
      "Cell \u001b[0;32mIn[10], line 4\u001b[0m\n\u001b[1;32m      1\u001b[0m \u001b[38;5;66;03m#Example of immutability in string\u001b[39;00m\n\u001b[1;32m      3\u001b[0m message \u001b[38;5;241m=\u001b[39m \u001b[38;5;124m\"\u001b[39m\u001b[38;5;124mWelcome to GeeksforGeeks\u001b[39m\u001b[38;5;124m\"\u001b[39m\n\u001b[0;32m----> 4\u001b[0m \u001b[43mmessage\u001b[49m\u001b[43m[\u001b[49m\u001b[38;5;241;43m0\u001b[39;49m\u001b[43m]\u001b[49m \u001b[38;5;241m=\u001b[39m \u001b[38;5;124m'\u001b[39m\u001b[38;5;124mp\u001b[39m\u001b[38;5;124m'\u001b[39m\n\u001b[1;32m      5\u001b[0m \u001b[38;5;28mprint\u001b[39m(message)\n",
      "\u001b[0;31mTypeError\u001b[0m: 'str' object does not support item assignment"
     ]
    }
   ],
   "source": [
    "#Example of immutability in string\n",
    "\n",
    "message = \"Welcome to GeeksforGeeks\"\n",
    "message[0] = 'p'\n",
    "print(message)\n",
    "\n",
    "#String will not support mutability"
   ]
  },
  {
   "cell_type": "markdown",
   "id": "e27b0f3b-0e53-4cc5-93ce-1d39e41311ab",
   "metadata": {},
   "source": [
    "4. # Discuss the different types of operators in Python and provide examples of how they are used.\n",
    "\n",
    "operators are special symbols or keywords that carry out operations on values and python variables. They serve as a basis for expressions, which are used to modify data and execute computations. Python contains several operators, each with its unique purpose. Different types of operators are:\n",
    "\n",
    "Arithmetic Operators\n",
    "Comparison (Relational) Operators\n",
    "Assignment Operators\n",
    "Logical Operators\n",
    "Bitwise Operators\n",
    "Membership Operators\n",
    "Identity Operators\n"
   ]
  },
  {
   "cell_type": "code",
   "execution_count": 15,
   "id": "6f5de9b4-24bc-40b3-b85f-4e52946bed75",
   "metadata": {},
   "outputs": [
    {
     "name": "stdout",
     "output_type": "stream",
     "text": [
      "a + b =  31\n"
     ]
    }
   ],
   "source": [
    "a = 21\n",
    "b = 10\n",
    "# Addition\n",
    "print (\"a + b = \", a + b)"
   ]
  },
  {
   "cell_type": "code",
   "execution_count": 16,
   "id": "5588ea7b-dc00-463e-be31-2d2e275d76bc",
   "metadata": {},
   "outputs": [
    {
     "name": "stdout",
     "output_type": "stream",
     "text": [
      "a == b =  False\n"
     ]
    }
   ],
   "source": [
    "#comparison\n",
    "a = 4\n",
    "b = 5\n",
    "\n",
    "print (\"a == b = \", a == b)\n"
   ]
  },
  {
   "cell_type": "code",
   "execution_count": 17,
   "id": "712d736d-0599-4201-99b8-35529031335c",
   "metadata": {},
   "outputs": [
    {
     "name": "stdout",
     "output_type": "stream",
     "text": [
      "a += 5 :  15\n"
     ]
    }
   ],
   "source": [
    "#Assignment\n",
    "\n",
    "a = 10\n",
    "a += 5\n",
    "print (\"a += 5 : \", a)\n"
   ]
  },
  {
   "cell_type": "code",
   "execution_count": 18,
   "id": "be825d81-f896-40bf-aeb3-36128062aac0",
   "metadata": {},
   "outputs": [
    {
     "name": "stdout",
     "output_type": "stream",
     "text": [
      "Both x and y are within the specified range\n"
     ]
    }
   ],
   "source": [
    "#Logical\n",
    "\n",
    "x = 5\n",
    "y = 10\n",
    "if x > 3 and y < 15:\n",
    "  print(\"Both x and y are within the specified range\")\n"
   ]
  },
  {
   "cell_type": "code",
   "execution_count": 20,
   "id": "06da543f-f1a3-45ad-bcd1-f00a49ea3c86",
   "metadata": {},
   "outputs": [
    {
     "name": "stdout",
     "output_type": "stream",
     "text": [
      "a & b :  12\n"
     ]
    }
   ],
   "source": [
    "#Bitwise\n",
    "a = 60 # 60 = 0011 1100\n",
    "b = 13 # 13 = 0000 1101\n",
    "c = a & b # 12 = 0000 1100\n",
    "print (\"a & b : \", c)"
   ]
  },
  {
   "cell_type": "code",
   "execution_count": 21,
   "id": "8bb503b4-2d7d-42c7-9904-c579c7ec6870",
   "metadata": {},
   "outputs": [
    {
     "name": "stdout",
     "output_type": "stream",
     "text": [
      "Yes, banana is a fruit!\n"
     ]
    }
   ],
   "source": [
    "#membership operator\n",
    "fruits = [\"apple\", \"banana\", \"cherry\"]\n",
    "if \"banana\" in fruits:\n",
    "    print(\"Yes, banana is a fruit!\")\n",
    "else:\n",
    "    print(\"No, banana is not a fruit!\")\n",
    "\n"
   ]
  },
  {
   "cell_type": "code",
   "execution_count": 22,
   "id": "5611cfe8-d429-4a0a-a9f6-4d03b5422db8",
   "metadata": {},
   "outputs": [
    {
     "name": "stdout",
     "output_type": "stream",
     "text": [
      "x and y are not the same object\n"
     ]
    }
   ],
   "source": [
    "#identity operators\n",
    "\n",
    "x = 10\n",
    "y = 5\n",
    "if x is y:\n",
    "    print(\"x and y are the same object\")\n",
    "else:\n",
    "    print(\"x and y are not the same object\")"
   ]
  },
  {
   "cell_type": "markdown",
   "id": "73895823-7811-4787-a390-ce7ef363fd76",
   "metadata": {},
   "source": [
    "5. #Explain the concept of type casting in Python with examples.\n",
    "\n",
    "Typecasting, also referred to as type conversion, is a fundamental concept in programming where we alter the data type of a value or variable to a different type.This manipulation is essential to ensure that data can be used in a specific context or to carry out operations that are meaningful only for a particular data type.\n",
    "Typecasting are of two types:\n",
    "\n",
    "Implicit- Implicit type casting in Python refers to the automatic conversion of one data type to another when necessary, without you having to explicitly instruct the program to do so. Python will try to perform this conversion if it makes sense and doesn’t result in data loss or errors.\n",
    "\n",
    "Explicit- Explicit type casting in Python is the process of changing the data type of a value or variable on purpose. It’s like telling Python, “I want this to be a different type.”\n"
   ]
  },
  {
   "cell_type": "code",
   "execution_count": 23,
   "id": "83672449-7896-46f7-8df3-ea6139a33eb6",
   "metadata": {},
   "outputs": [
    {
     "name": "stdout",
     "output_type": "stream",
     "text": [
      "<class 'int'>\n",
      "<class 'float'>\n",
      "10.0\n",
      "<class 'float'>\n",
      "21.0\n",
      "<class 'float'>\n"
     ]
    }
   ],
   "source": [
    "# implicit type Casting \n",
    "a = 7\n",
    "print(type(a)) \n",
    "\n",
    "# Python automatically converts \n",
    "# b to float \n",
    "b = 3.0\n",
    "print(type(b)) \n",
    "\n",
    "# Python automatically converts \n",
    "# c to float as it is a float addition \n",
    "c = a + b \n",
    "print(c) \n",
    "print(type(c))\n",
    "\n",
    "# Python automatically converts \n",
    "# d to float as it is a float multiplication\n",
    "d = a * b\n",
    "print(d)\n",
    "print(type(d))\n"
   ]
  },
  {
   "cell_type": "code",
   "execution_count": 25,
   "id": "e62c60ce-31cf-4228-91d2-d81c77b90240",
   "metadata": {},
   "outputs": [
    {
     "ename": "TypeError",
     "evalue": "unsupported operand type(s) for +: 'int' and 'str'",
     "output_type": "error",
     "traceback": [
      "\u001b[0;31m---------------------------------------------------------------------------\u001b[0m",
      "\u001b[0;31mTypeError\u001b[0m                                 Traceback (most recent call last)",
      "Cell \u001b[0;32mIn[25], line 8\u001b[0m\n\u001b[1;32m      5\u001b[0m b \u001b[38;5;241m=\u001b[39m \u001b[38;5;124m'\u001b[39m\u001b[38;5;124mt\u001b[39m\u001b[38;5;124m'\u001b[39m\n\u001b[1;32m      7\u001b[0m \u001b[38;5;66;03m# typecast to int\u001b[39;00m\n\u001b[0;32m----> 8\u001b[0m n \u001b[38;5;241m=\u001b[39m \u001b[43ma\u001b[49m\u001b[38;5;241;43m+\u001b[39;49m\u001b[43mb\u001b[49m\n\u001b[1;32m     10\u001b[0m \u001b[38;5;28mprint\u001b[39m(n)\n\u001b[1;32m     11\u001b[0m \u001b[38;5;28mprint\u001b[39m(\u001b[38;5;28mtype\u001b[39m(n))\n",
      "\u001b[0;31mTypeError\u001b[0m: unsupported operand type(s) for +: 'int' and 'str'"
     ]
    }
   ],
   "source": [
    "#Explict type casting\n",
    "# integer variable\n",
    "a = 5\n",
    "# string variable\n",
    "b = 't'\n",
    "\n",
    "# typecast to int\n",
    "n = a+b\n",
    "\n",
    "print(n)\n",
    "print(type(n))\n",
    "\n",
    "#unsupported operand type\n"
   ]
  },
  {
   "cell_type": "code",
   "execution_count": 28,
   "id": "03e4aecd-4819-4059-b05d-715bbc765053",
   "metadata": {},
   "outputs": [
    {
     "name": "stdout",
     "output_type": "stream",
     "text": [
      "10 greater than 5\n"
     ]
    }
   ],
   "source": [
    "6. # How do conditional statements work in Python? Illust$ate with examples.\n",
    "\n",
    "#Conditional Statements are statements in Python that provide a choice for the control flow based on a condition. It means that the control flow of the Python program will be decided based on the outcome of the condition.\n",
    "#Conditional statements helps us to code decisions based on some preconditions\n",
    "#if\n",
    "#if else\n",
    "#if elif(elseif) else\n",
    "#nested if else\n",
    "\n",
    "# if statement example \n",
    "if 10 > 5: \n",
    "\tprint(\"10 greater than 5\") \n",
    "\n"
   ]
  },
  {
   "cell_type": "code",
   "execution_count": 29,
   "id": "a6e82203-79d5-4dff-9fb6-391b6e5c2955",
   "metadata": {},
   "outputs": [
    {
     "name": "stdout",
     "output_type": "stream",
     "text": [
      "No\n"
     ]
    }
   ],
   "source": [
    "# if..else statement example \n",
    "x = 3\n",
    "if x == 4: \n",
    "\tprint(\"Yes\") \n",
    "else: \n",
    "\tprint(\"No\") \n"
   ]
  },
  {
   "cell_type": "code",
   "execution_count": 32,
   "id": "5602ff79-1460-408d-be8f-6fab6dfd1a4b",
   "metadata": {},
   "outputs": [
    {
     "name": "stdout",
     "output_type": "stream",
     "text": [
      "letter is A\n"
     ]
    }
   ],
   "source": [
    "# if-elif statement example \n",
    "letter = \"A\"\n",
    "\n",
    "if letter == \"B\": \n",
    "\tprint(\"letter is B\") \n",
    "\n",
    "elif letter == \"C\": \n",
    "\tprint(\"letter is C\") \n",
    "\n",
    "elif letter == \"A\": \n",
    "\tprint(\"letter is A\") \n",
    "\n",
    "else: \n",
    "\tprint(\"letter isn't A, B or C\") \n"
   ]
  },
  {
   "cell_type": "code",
   "execution_count": 34,
   "id": "fe294449-d24b-4f2b-93da-c78c97841b8b",
   "metadata": {},
   "outputs": [
    {
     "name": "stdout",
     "output_type": "stream",
     "text": [
      "Both x and y is greater than 5\n"
     ]
    }
   ],
   "source": [
    "#nested if else \n",
    "x = 7\n",
    "y = 6\n",
    "if x > 5:\n",
    "    if y>5:\n",
    "        print(\"Both x and y is greater than 5\")\n",
    "    else:\n",
    "        print(\"x is greater than 5 but y is less than 5\")\n",
    "else:\n",
    "    print(\"x is not greater than 5\")     "
   ]
  },
  {
   "cell_type": "markdown",
   "id": "b8a66e92-f237-444a-acfe-6ac1d6a7e523",
   "metadata": {},
   "source": [
    "7. #Describe the different types of loops in Python and their use cases with examples.\n",
    "\n",
    "A loop is a control flow statement in Python that allows you to execute a piece of code repeatedly until a specific condition is met. Loops are necessary for operations that require repetitive execution, such as iterating through a Python list of items or doing calculations many times.\n",
    "\n",
    "# while loop\n",
    "In Python, a while loop is a control flow statement that allows you to execute a block of code repeatedly while a given condition is true.\n",
    "The condition is evaluated at the start of each loop iteration, and if it is true, the loop body is executed.\n",
    "The loop is terminated if the condition is false.\n",
    "\n"
   ]
  },
  {
   "cell_type": "code",
   "execution_count": 38,
   "id": "f29c9252-5029-4f83-ae1a-8eb9a65de8d5",
   "metadata": {},
   "outputs": [
    {
     "name": "stdout",
     "output_type": "stream",
     "text": [
      "* \n",
      "* * \n",
      "* * * \n",
      "* * * * \n",
      "* * * * * \n",
      "* * * * * * \n"
     ]
    }
   ],
   "source": [
    "row = 1\n",
    "while row <= 6:\n",
    "    col = 1\n",
    "    while col <= row:\n",
    "        print(\"*\", end = \" \")\n",
    "        col = col+1\n",
    "    print()\n",
    "    row = row+1"
   ]
  },
  {
   "cell_type": "code",
   "execution_count": 39,
   "id": "2d53aa53-b852-4ad4-a33e-7289849ba225",
   "metadata": {},
   "outputs": [
    {
     "name": "stdout",
     "output_type": "stream",
     "text": [
      "* \n",
      "* * \n",
      "* * * \n",
      "* * * * \n",
      "* * * * * \n",
      "* * * * * * \n",
      "* * * * * \n",
      "* * * * \n",
      "* * * \n",
      "* * \n",
      "* \n",
      "\n"
     ]
    }
   ],
   "source": [
    "#for loop\n",
    "#A for loop is a control flow statement in Python that allows you to iterate over a sequence of elements such as a list, tuple, or string.\n",
    "#On each iteration, the loop variable in Python will take on the value of the next item in the sequence.\n",
    "\n",
    "for i in range (6):\n",
    "    for j in range(i+1):\n",
    "        print(\"*\" , end = \" \")\n",
    "    print()\n",
    "for i in range (6):\n",
    "    for j in range(i+1, 6):\n",
    "        print(\"*\" , end = \" \")\n",
    "    print()  \n"
   ]
  },
  {
   "cell_type": "code",
   "execution_count": null,
   "id": "7abeef4c-14b9-4f05-a1ac-78974c4e42c8",
   "metadata": {},
   "outputs": [],
   "source": []
  }
 ],
 "metadata": {
  "kernelspec": {
   "display_name": "Python 3 (ipykernel)",
   "language": "python",
   "name": "python3"
  },
  "language_info": {
   "codemirror_mode": {
    "name": "ipython",
    "version": 3
   },
   "file_extension": ".py",
   "mimetype": "text/x-python",
   "name": "python",
   "nbconvert_exporter": "python",
   "pygments_lexer": "ipython3",
   "version": "3.10.8"
  }
 },
 "nbformat": 4,
 "nbformat_minor": 5
}
